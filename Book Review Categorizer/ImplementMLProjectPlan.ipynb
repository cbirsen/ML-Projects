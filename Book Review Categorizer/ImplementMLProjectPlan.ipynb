{
 "cells": [
  {
   "cell_type": "markdown",
   "metadata": {},
   "source": [
    "# Lab 8: Implement Your Machine Learning Project Plan"
   ]
  },
  {
   "cell_type": "markdown",
   "metadata": {},
   "source": [
    "In this lab assignment, you will implement the machine learning project plan you created in the written assignment. You will:\n",
    "\n",
    "1. Load your data set and save it to a Pandas DataFrame.\n",
    "2. Perform exploratory data analysis on your data to determine which feature engineering and data preparation techniques you will use.\n",
    "3. Prepare your data for your model and create features and a label.\n",
    "4. Fit your model to the training data and evaluate your model.\n",
    "5. Improve your model by performing model selection and/or feature selection techniques to find best model for your problem."
   ]
  },
  {
   "cell_type": "markdown",
   "metadata": {},
   "source": [
    "### Import Packages\n",
    "\n",
    "Before you get started, import a few packages."
   ]
  },
  {
   "cell_type": "code",
   "execution_count": 1,
   "metadata": {},
   "outputs": [],
   "source": [
    "import pandas as pd\n",
    "import numpy as np\n",
    "import os \n",
    "import matplotlib.pyplot as plt\n",
    "import seaborn as sns"
   ]
  },
  {
   "cell_type": "markdown",
   "metadata": {},
   "source": [
    "<b>Task:</b> In the code cell below, import additional packages that you have used in this course that you will need for this task."
   ]
  },
  {
   "cell_type": "code",
   "execution_count": 2,
   "metadata": {},
   "outputs": [],
   "source": [
    "# YOUR CODE HERE\n",
    "from sklearn.model_selection import train_test_split\n",
    "from sklearn.linear_model import LogisticRegression\n",
    "from sklearn.metrics import roc_auc_score\n",
    "import gensim\n",
    "from sklearn.metrics import accuracy_score\n",
    "from sklearn.pipeline import Pipeline\n",
    "from sklearn.model_selection import GridSearchCV\n",
    "from sklearn.svm import l1_min_c\n",
    "import tensorflow.keras as keras\n",
    "\n",
    "from sklearn.feature_extraction.text import TfidfVectorizer\n",
    "from keras.wrappers.scikit_learn import KerasClassifier\n",
    "from sklearn.ensemble import StackingClassifier"
   ]
  },
  {
   "cell_type": "markdown",
   "metadata": {},
   "source": [
    "## Part 1: Load the Data Set\n",
    "\n",
    "\n",
    "You have chosen to work with one of four data sets. The data sets are located in a folder named \"data.\" The file names of the three data sets are as follows:\n",
    "\n",
    "* The \"adult\" data set that contains Census information from 1994 is located in file `adultData.csv`\n",
    "* The airbnb NYC \"listings\" data set is located in file  `airbnbListingsData.csv`\n",
    "* The World Happiness Report (WHR) data set is located in file `WHR2018Chapter2OnlineData.csv`\n",
    "* The book review data set is located in file `bookReviewsData.csv`\n",
    "\n",
    "\n",
    "\n",
    "<b>Task:</b> In the code cell below, use the same method you have been using to load your data using `pd.read_csv()` and save it to DataFrame `df`."
   ]
  },
  {
   "cell_type": "code",
   "execution_count": 3,
   "metadata": {},
   "outputs": [],
   "source": [
    "# YOUR CODE HERE\n",
    "df = pd.read_csv('data/bookReviewsData.csv')"
   ]
  },
  {
   "cell_type": "markdown",
   "metadata": {},
   "source": [
    "## Part 2: Exploratory Data Analysis\n",
    "\n",
    "The next step is to inspect and analyze your data set with your machine learning problem and project plan in mind. \n",
    "\n",
    "This step will help you determine data preparation and feature engineering techniques you will need to apply to your data to build a balanced modeling data set for your problem and model. These data preparation techniques may include:\n",
    "* addressing missingness, such as replacing missing values with means\n",
    "* renaming features and labels\n",
    "* finding and replacing outliers\n",
    "* performing winsorization if needed\n",
    "* performing one-hot encoding on categorical features\n",
    "* performing vectorization for an NLP problem\n",
    "* addressing class imbalance in your data sample to promote fair AI\n",
    "\n",
    "\n",
    "Think of the different techniques you have used to inspect and analyze your data in this course. These include using Pandas to apply data filters, using the Pandas `describe()` method to get insight into key statistics for each column, using the Pandas `dtypes` property to inspect the data type of each column, and using Matplotlib and Seaborn to detect outliers and visualize relationships between features and labels. If you are working on a classification problem, use techniques you have learned to determine if there is class imbalance.\n",
    "\n",
    "\n",
    "<b>Task</b>: Use the techniques you have learned in this course to inspect and analyze your data. \n",
    "\n",
    "<b>Note</b>: You can add code cells if needed by going to the <b>Insert</b> menu and clicking on <b>Insert Cell Below</b> in the drop-drown menu."
   ]
  },
  {
   "cell_type": "code",
   "execution_count": 4,
   "metadata": {},
   "outputs": [
    {
     "data": {
      "text/html": [
       "<div>\n",
       "<style scoped>\n",
       "    .dataframe tbody tr th:only-of-type {\n",
       "        vertical-align: middle;\n",
       "    }\n",
       "\n",
       "    .dataframe tbody tr th {\n",
       "        vertical-align: top;\n",
       "    }\n",
       "\n",
       "    .dataframe thead th {\n",
       "        text-align: right;\n",
       "    }\n",
       "</style>\n",
       "<table border=\"1\" class=\"dataframe\">\n",
       "  <thead>\n",
       "    <tr style=\"text-align: right;\">\n",
       "      <th></th>\n",
       "      <th>Review</th>\n",
       "      <th>Positive Review</th>\n",
       "    </tr>\n",
       "  </thead>\n",
       "  <tbody>\n",
       "    <tr>\n",
       "      <th>0</th>\n",
       "      <td>This was perhaps the best of Johannes Steinhof...</td>\n",
       "      <td>True</td>\n",
       "    </tr>\n",
       "    <tr>\n",
       "      <th>1</th>\n",
       "      <td>This very fascinating book is a story written ...</td>\n",
       "      <td>True</td>\n",
       "    </tr>\n",
       "    <tr>\n",
       "      <th>2</th>\n",
       "      <td>The four tales in this collection are beautifu...</td>\n",
       "      <td>True</td>\n",
       "    </tr>\n",
       "    <tr>\n",
       "      <th>3</th>\n",
       "      <td>The book contained more profanity than I expec...</td>\n",
       "      <td>False</td>\n",
       "    </tr>\n",
       "    <tr>\n",
       "      <th>4</th>\n",
       "      <td>We have now entered a second time of deep conc...</td>\n",
       "      <td>True</td>\n",
       "    </tr>\n",
       "  </tbody>\n",
       "</table>\n",
       "</div>"
      ],
      "text/plain": [
       "                                              Review  Positive Review\n",
       "0  This was perhaps the best of Johannes Steinhof...             True\n",
       "1  This very fascinating book is a story written ...             True\n",
       "2  The four tales in this collection are beautifu...             True\n",
       "3  The book contained more profanity than I expec...            False\n",
       "4  We have now entered a second time of deep conc...             True"
      ]
     },
     "execution_count": 4,
     "metadata": {},
     "output_type": "execute_result"
    }
   ],
   "source": [
    "# YOUR CODE HERE\n",
    "df.head()"
   ]
  },
  {
   "cell_type": "code",
   "execution_count": 5,
   "metadata": {},
   "outputs": [
    {
     "data": {
      "text/plain": [
       "False"
      ]
     },
     "execution_count": 5,
     "metadata": {},
     "output_type": "execute_result"
    }
   ],
   "source": [
    "# check if there any missing values\n",
    "df.isnull().values.any()"
   ]
  },
  {
   "cell_type": "code",
   "execution_count": 6,
   "metadata": {},
   "outputs": [
    {
     "name": "stdout",
     "output_type": "stream",
     "text": [
      "Positive reviews:  980\n",
      "Negative reviews:  993\n"
     ]
    }
   ],
   "source": [
    "# check for class imbalance\n",
    "positive_reviews = df[df['Positive Review'] == True].shape[0]\n",
    "print(\"Positive reviews: \", positive_reviews)\n",
    "\n",
    "negative_reviews = df[df['Positive Review'] == False].shape[0]\n",
    "print(\"Negative reviews: \", negative_reviews)"
   ]
  },
  {
   "cell_type": "code",
   "execution_count": 7,
   "metadata": {},
   "outputs": [],
   "source": [
    "# separate feature and label\n",
    "X = df['Review']\n",
    "y = df['Positive Review']"
   ]
  },
  {
   "cell_type": "code",
   "execution_count": 8,
   "metadata": {},
   "outputs": [],
   "source": [
    "X_train, X_test, y_train, y_test = train_test_split(X, y, train_size=.75, random_state=1234)"
   ]
  },
  {
   "cell_type": "code",
   "execution_count": 9,
   "metadata": {},
   "outputs": [],
   "source": [
    "# initialize the vectorizer to convert text data to numerical\n",
    "tfidf_vectorizer = TfidfVectorizer(min_df=5, ngram_range=(1,2))\n",
    "tfidf_vectorizer.fit(X_train)\n",
    "X_train_vector = tfidf_vectorizer.transform(X_train)\n",
    "X_test_vector = tfidf_vectorizer.transform(X_test)"
   ]
  },
  {
   "cell_type": "code",
   "execution_count": 10,
   "metadata": {},
   "outputs": [
    {
     "data": {
      "text/plain": [
       "9140"
      ]
     },
     "execution_count": 10,
     "metadata": {},
     "output_type": "execute_result"
    }
   ],
   "source": [
    "vocabulary_size = len(tfidf_vectorizer.vocabulary_)  # retrieve vocabulary and measure its size\n",
    "vocabulary_size"
   ]
  },
  {
   "cell_type": "markdown",
   "metadata": {},
   "source": [
    "## Part 3: Implement Your Project Plan\n",
    "\n",
    "<b>Task:</b> Use the rest of this notebook to carry out your project plan. You will:\n",
    "\n",
    "1. Prepare your data for your model and create features and a label.\n",
    "2. Fit your model to the training data and evaluate your model.\n",
    "3. Improve your model by performing model selection and/or feature selection techniques to find best model for your problem.\n",
    "\n",
    "\n",
    "Add code cells below and populate the notebook with commentary, code, analyses, results, and figures as you see fit."
   ]
  },
  {
   "cell_type": "code",
   "execution_count": 17,
   "metadata": {},
   "outputs": [
    {
     "name": "stdout",
     "output_type": "stream",
     "text": [
      "Model fitting is done!\n",
      "AUC on the test data: 0.9277\n",
      "Training Accuracy: 0.9601081812035159\n",
      "Test Accuracy: 0.8461538461538461\n"
     ]
    }
   ],
   "source": [
    "# create a simple logistic regression pipeline with default parameters\n",
    "simple_logistic = Pipeline([\n",
    "    ('tdidf', TfidfVectorizer(min_df=5, ngram_range=(1,2))),\n",
    "    ('log_reg', LogisticRegression())\n",
    "])\n",
    "simple_logistic.fit(X_train, y_train)\n",
    "print('Model fitting is done!')\n",
    "\n",
    "# evaluate training accuracy, prediction accuracy and prediction AUC score\n",
    "y_prob_pred = simple_logistic.predict_proba(X_test)[:,1]\n",
    "auc_simple_logistic = roc_auc_score(y_test, y_prob_pred)\n",
    "print('AUC on the test data: {:.4f}'.format(auc_simple_logistic))\n",
    "\n",
    "y_train_pred = simple_logistic.predict(X_train)\n",
    "train_accuracy_simple_logistic = accuracy_score(y_train, y_train_pred)\n",
    "print(\"Training Accuracy:\", train_accuracy_simple_logistic)\n",
    "    \n",
    "y_test_pred = simple_logistic.predict(X_test)\n",
    "test_accuracy_simple_logistic = accuracy_score(y_test, y_test_pred)\n",
    "print(\"Test Accuracy:\", test_accuracy_simple_logistic)"
   ]
  },
  {
   "cell_type": "code",
   "execution_count": 18,
   "metadata": {},
   "outputs": [
    {
     "name": "stdout",
     "output_type": "stream",
     "text": [
      "Created the grid!\n",
      "Done grid search!\n"
     ]
    }
   ],
   "source": [
    "# perform grid search to improve logistic regression\n",
    "\n",
    "# range of hyperparameters\n",
    "hyperparams_C = l1_min_c(X_train_vector, y_train, loss=\"log\") * np.logspace(0, 4, 16)\n",
    "hyperparams_max_iter = [100, 200, 500]\n",
    "\n",
    "# create parameter grid\n",
    "param_grid_log_reg = {\n",
    "    'log_reg__C': list(hyperparams_C),  \n",
    "    'log_reg__max_iter' : hyperparams_max_iter,\n",
    "}\n",
    "print('Created the grid!')\n",
    "\n",
    "# create and fit grid search\n",
    "grid_log_reg = GridSearchCV(simple_logistic, param_grid_log_reg, cv=5)\n",
    "grid_search_log_reg = grid_log_reg.fit(X_train, y_train)\n",
    "print('Done grid search!')\n",
    "\n"
   ]
  },
  {
   "cell_type": "code",
   "execution_count": 19,
   "metadata": {},
   "outputs": [
    {
     "name": "stdout",
     "output_type": "stream",
     "text": [
      "Optimal hyperparameters: {'log_reg__C': 2.4127707306272566, 'log_reg__max_iter': 100}\n",
      "AUC on the test data: 0.9291\n",
      "Training Accuracy: 0.9858012170385395\n",
      "Test Accuracy: 0.8441295546558705\n"
     ]
    }
   ],
   "source": [
    "# print optimal parameters, new training accuracy, new test accuracy, and new AUC score\n",
    "print('Optimal hyperparameters: {0}'.format(grid_search_log_reg.best_params_))\n",
    "\n",
    "best_log_reg = grid_search_log_reg.best_estimator_\n",
    "y_prob_pred = best_log_reg.predict_proba(X_test)[:,1]\n",
    "auc_best_logistic = roc_auc_score(y_test, y_prob_pred)\n",
    "print('AUC on the test data: {:.4f}'.format(auc_best_logistic))\n",
    "\n",
    "y_train_pred = best_log_reg.predict(X_train)\n",
    "train_accuracy_best_logistic = accuracy_score(y_train, y_train_pred)\n",
    "print(\"Training Accuracy:\", train_accuracy_best_logistic)\n",
    "\n",
    "y_test_pred = best_log_reg.predict(X_test)\n",
    "test_accuracy_best_logistic = accuracy_score(y_test, y_test_pred)\n",
    "print(\"Test Accuracy:\", test_accuracy_best_logistic)"
   ]
  },
  {
   "cell_type": "code",
   "execution_count": 20,
   "metadata": {},
   "outputs": [
    {
     "name": "stdout",
     "output_type": "stream",
     "text": [
      "Model: \"sequential_1\"\n",
      "_________________________________________________________________\n",
      "Layer (type)                 Output Shape              Param #   \n",
      "=================================================================\n",
      "dense_4 (Dense)              (None, 64)                585024    \n",
      "_________________________________________________________________\n",
      "dense_5 (Dense)              (None, 32)                2080      \n",
      "_________________________________________________________________\n",
      "dense_6 (Dense)              (None, 16)                528       \n",
      "_________________________________________________________________\n",
      "dense_7 (Dense)              (None, 1)                 17        \n",
      "=================================================================\n",
      "Total params: 587,649\n",
      "Trainable params: 587,649\n",
      "Non-trainable params: 0\n",
      "_________________________________________________________________\n"
     ]
    }
   ],
   "source": [
    "# create a simple neural network model that has 3 hidden layers \n",
    "# with 64, 32, and 16 units in each layer\n",
    "\n",
    "simple_nn = keras.Sequential()\n",
    "input_layer = keras.layers.InputLayer(input_shape=(vocabulary_size,))\n",
    "simple_nn.add(input_layer)\n",
    "\n",
    "hidden_layer_1 = keras.layers.Dense(units=64, activation='relu')\n",
    "simple_nn.add(hidden_layer_1)\n",
    "\n",
    "hidden_layer_2 = keras.layers.Dense(units=32, activation='relu')\n",
    "simple_nn.add(hidden_layer_2)\n",
    "\n",
    "hidden_layer_3 = keras.layers.Dense(units=16, activation='relu')\n",
    "simple_nn.add(hidden_layer_3)\n",
    "\n",
    "output_layer = keras.layers.Dense(units=1, activation='sigmoid') \n",
    "simple_nn.add(output_layer)\n",
    "simple_nn.summary()"
   ]
  },
  {
   "cell_type": "code",
   "execution_count": 21,
   "metadata": {},
   "outputs": [],
   "source": [
    "# define optimization function for the simple nn model\n",
    "sgd_optimizer = keras.optimizers.SGD(learning_rate=0.1)\n",
    "loss_fn = keras.losses.BinaryCrossentropy(from_logits=False)\n",
    "simple_nn.compile(optimizer=sgd_optimizer, loss=loss_fn, metrics=['accuracy'])"
   ]
  },
  {
   "cell_type": "code",
   "execution_count": 22,
   "metadata": {},
   "outputs": [
    {
     "data": {
      "image/png": "[encoded data removed]",
      "text/plain": [
       "<Figure size 432x288 with 1 Axes>"
      ]
     },
     "metadata": {
      "needs_background": "light"
     },
     "output_type": "display_data"
    },
    {
     "data": {
      "image/png": "[encoded data removed]",
      "text/plain": [
       "<Figure size 432x288 with 1 Axes>"
      ]
     },
     "metadata": {
      "needs_background": "light"
     },
     "output_type": "display_data"
    }
   ],
   "source": [
    "# fit the simple nn model and get initial accuracy results            \n",
    "num_epochs = 50\n",
    "\n",
    "history = simple_nn.fit(\n",
    "    X_train_vector.toarray(),\n",
    "    y_train,\n",
    "    epochs=num_epochs,\n",
    "    verbose=0, \n",
    "    validation_split = 0.2,\n",
    ")\n",
    "\n",
    "# Plot training and validation loss\n",
    "plt.plot(range(1, num_epochs + 1), history.history['loss'], label='Training Loss')\n",
    "plt.plot(range(1, num_epochs + 1), history.history['val_loss'], label='Validation Loss')\n",
    "\n",
    "plt.xlabel('Epoch')\n",
    "plt.ylabel('Loss')\n",
    "plt.legend()\n",
    "plt.show()\n",
    "\n",
    "\n",
    "# Plot training and validation accuracy\n",
    "plt.plot(range(1, num_epochs + 1), history.history['accuracy'], label='Training Accuracy')\n",
    "plt.plot(range(1, num_epochs + 1), history.history['val_accuracy'], label='Validation Accuracy')\n",
    "\n",
    "plt.xlabel('Epoch')\n",
    "plt.ylabel('Accuracy')\n",
    "plt.legend()\n",
    "plt.show()\n",
    "\n",
    " "
   ]
  },
  {
   "cell_type": "code",
   "execution_count": 23,
   "metadata": {},
   "outputs": [
    {
     "name": "stdout",
     "output_type": "stream",
     "text": [
      "16/16 [==============================] - 0s 2ms/step - loss: 0.4876 - accuracy: 0.8320\n",
      "Training Accuracy: 1.0\n",
      "Test Accuracy:  0.8319838047027588\n",
      "AUC on the test data: 0.9121\n"
     ]
    }
   ],
   "source": [
    "# evaluate training accuracy, test accuracy, and prediction AUC score\n",
    "loss, accuracy = simple_nn.evaluate(X_test_vector.toarray(), y_test)\n",
    "\n",
    "accuracy_simple_nn = history.history['accuracy']\n",
    "print(\"Training Accuracy:\", accuracy_simple_nn[-1])\n",
    "\n",
    "print('Test Accuracy: ', str(accuracy))\n",
    "\n",
    "y_prob_pred = simple_nn.predict(X_test_vector.toarray())\n",
    "auc_simple_nn = roc_auc_score(y_test, y_prob_pred)\n",
    "print('AUC on the test data: {:.4f}'.format(auc_simple_nn))"
   ]
  },
  {
   "cell_type": "code",
   "execution_count": 24,
   "metadata": {},
   "outputs": [
    {
     "name": "stdout",
     "output_type": "stream",
     "text": [
      "16/16 [==============================] - 0s 2ms/step - loss: 0.3758 - accuracy: 0.8360\n",
      "FOR NUM_EPOCHS VALUE:  26\n",
      "Training Accuracy: 0.9873203635215759\n",
      "Test Accuracy:  0.8360323905944824\n",
      "AUC on the test data: 0.9200\n",
      "16/16 [==============================] - 0s 2ms/step - loss: 0.4193 - accuracy: 0.8320\n",
      "FOR NUM_EPOCHS VALUE:  28\n",
      "Training Accuracy: 1.0\n",
      "Test Accuracy:  0.8319838047027588\n",
      "AUC on the test data: 0.9132\n",
      "16/16 [==============================] - 0s 2ms/step - loss: 0.4226 - accuracy: 0.8239\n",
      "FOR NUM_EPOCHS VALUE:  30\n",
      "Training Accuracy: 0.9991546869277954\n",
      "Test Accuracy:  0.8238866329193115\n",
      "AUC on the test data: 0.9127\n",
      "16/16 [==============================] - 0s 2ms/step - loss: 0.4345 - accuracy: 0.8381\n",
      "FOR NUM_EPOCHS VALUE:  32\n",
      "Training Accuracy: 0.9991546869277954\n",
      "Test Accuracy:  0.8380566835403442\n",
      "AUC on the test data: 0.9119\n",
      "16/16 [==============================] - 0s 2ms/step - loss: 0.4561 - accuracy: 0.8279\n",
      "FOR NUM_EPOCHS VALUE:  36\n",
      "Training Accuracy: 1.0\n",
      "Test Accuracy:  0.8279352188110352\n",
      "AUC on the test data: 0.9126\n",
      "16/16 [==============================] - 0s 2ms/step - loss: 0.4788 - accuracy: 0.8259\n",
      "FOR NUM_EPOCHS VALUE:  38\n",
      "Training Accuracy: 1.0\n",
      "Test Accuracy:  0.8259109258651733\n",
      "AUC on the test data: 0.9116\n"
     ]
    }
   ],
   "source": [
    "# use for loop to find the best num_epochs value\n",
    "# the simple nn model had training accuracy of 1.0 which might indicate overfitting\n",
    "# so we are looking for a num_epochs value that generate a smaller difference between training\n",
    "# and testing accuracy\n",
    "for num_epochs in [26, 28, 30, 32, 36, 38]:\n",
    "    simple_nn = keras.Sequential()\n",
    "    input_layer = keras.layers.InputLayer(input_shape=(vocabulary_size,))\n",
    "    simple_nn.add(input_layer)\n",
    "\n",
    "    hidden_layer_1 = keras.layers.Dense(units=64, activation='relu')\n",
    "    simple_nn.add(hidden_layer_1)\n",
    "\n",
    "    hidden_layer_2 = keras.layers.Dense(units=32, activation='relu')\n",
    "    simple_nn.add(hidden_layer_2)\n",
    "\n",
    "    hidden_layer_3 = keras.layers.Dense(units=16, activation='relu')\n",
    "    simple_nn.add(hidden_layer_3)\n",
    "\n",
    "    output_layer = keras.layers.Dense(units=1, activation='sigmoid') \n",
    "    simple_nn.add(output_layer)\n",
    "    \n",
    "    sgd_optimizer = keras.optimizers.SGD(learning_rate=0.1)\n",
    "    loss_fn = keras.losses.BinaryCrossentropy(from_logits=False)\n",
    "    simple_nn.compile(optimizer=sgd_optimizer, loss=loss_fn, metrics=['accuracy'])  \n",
    "    \n",
    "    history = simple_nn.fit(\n",
    "        X_train_vector.toarray(),\n",
    "        y_train,\n",
    "        epochs=num_epochs,\n",
    "        verbose=0, \n",
    "        validation_split = 0.2,\n",
    "    )\n",
    "    \n",
    "    loss, accuracy = simple_nn.evaluate(X_test_vector.toarray(), y_test)\n",
    "\n",
    "    print('FOR NUM_EPOCHS VALUE: ', num_epochs)\n",
    "    accuracy_simple_nn = history.history['accuracy']\n",
    "    print(\"Training Accuracy:\", accuracy_simple_nn[-1])\n",
    "\n",
    "    print('Test Accuracy: ', str(accuracy))\n",
    "\n",
    "    y_prob_pred = simple_nn.predict(X_test_vector.toarray())\n",
    "    auc_simple_nn = roc_auc_score(y_test, y_prob_pred)\n",
    "    print('AUC on the test data: {:.4f}'.format(auc_simple_nn))\n",
    "    \n",
    "    \n",
    "# the training and test accuracy values are the closest when num_epoch is 30"
   ]
  },
  {
   "cell_type": "code",
   "execution_count": 25,
   "metadata": {},
   "outputs": [
    {
     "data": {
      "text/plain": [
       "LogisticRegression(C=2.4127707306272566, class_weight=None, dual=False,\n",
       "                   fit_intercept=True, intercept_scaling=1, l1_ratio=None,\n",
       "                   max_iter=100, multi_class='auto', n_jobs=None, penalty='l2',\n",
       "                   random_state=None, solver='lbfgs', tol=0.0001, verbose=0,\n",
       "                   warm_start=False)"
      ]
     },
     "execution_count": 25,
     "metadata": {},
     "output_type": "execute_result"
    }
   ],
   "source": [
    "# build a stack of results from best performing logistic regression and neural network models\n",
    "\n",
    "# create the individual models\n",
    "# best log reg\n",
    "logreg_model = LogisticRegression(C=2.4127707306272566, max_iter=100)\n",
    "logreg_model.fit(X_train_vector.toarray(), y_train)"
   ]
  },
  {
   "cell_type": "code",
   "execution_count": 26,
   "metadata": {},
   "outputs": [
    {
     "data": {
      "text/plain": [
       "<keras.callbacks.History at 0x7f4708c07470>"
      ]
     },
     "execution_count": 26,
     "metadata": {},
     "output_type": "execute_result"
    }
   ],
   "source": [
    "# best nn\n",
    "nn_model = keras.Sequential()\n",
    "input_layer = keras.layers.InputLayer(input_shape=(vocabulary_size,))\n",
    "nn_model.add(input_layer)\n",
    "\n",
    "hidden_layer_1 = keras.layers.Dense(units=64, activation='relu')\n",
    "nn_model.add(hidden_layer_1)\n",
    "\n",
    "hidden_layer_2 = keras.layers.Dense(units=32, activation='relu')\n",
    "nn_model.add(hidden_layer_2)\n",
    "\n",
    "hidden_layer_3 = keras.layers.Dense(units=16, activation='relu')\n",
    "nn_model.add(hidden_layer_3)\n",
    "\n",
    "output_layer = keras.layers.Dense(units=1, activation='sigmoid') \n",
    "nn_model.add(output_layer)\n",
    "\n",
    "sgd_optimizer = keras.optimizers.SGD(learning_rate=0.1)\n",
    "loss_fn = keras.losses.BinaryCrossentropy(from_logits=False)\n",
    "nn_model.compile(optimizer=sgd_optimizer, loss=loss_fn, metrics=['accuracy'])\n",
    "\n",
    "nn_model.fit(X_train_vector.toarray(), y_train, epochs=30, verbose=0, validation_split=0.2)"
   ]
  },
  {
   "cell_type": "code",
   "execution_count": 27,
   "metadata": {},
   "outputs": [
    {
     "data": {
      "text/plain": [
       "LogisticRegression(C=1.0, class_weight=None, dual=False, fit_intercept=True,\n",
       "                   intercept_scaling=1, l1_ratio=None, max_iter=100,\n",
       "                   multi_class='auto', n_jobs=None, penalty='l2',\n",
       "                   random_state=None, solver='lbfgs', tol=0.0001, verbose=0,\n",
       "                   warm_start=False)"
      ]
     },
     "execution_count": 27,
     "metadata": {},
     "output_type": "execute_result"
    }
   ],
   "source": [
    "# make predictions using the logistic regression and neural network models\n",
    "logreg_predictions = logreg_model.predict_proba(X_train_vector.toarray())[:, 1]\n",
    "nn_predictions = nn_model.predict(X_train_vector.toarray())\n",
    "\n",
    "# stack the predictions horizontally\n",
    "stacked_features = np.column_stack((logreg_predictions, nn_predictions))\n",
    "\n",
    "# create the final estimator \n",
    "final_estimator = LogisticRegression()\n",
    "\n",
    "# fit the final estimator on the stacked features\n",
    "final_estimator.fit(stacked_features, y_train)"
   ]
  },
  {
   "cell_type": "code",
   "execution_count": 28,
   "metadata": {},
   "outputs": [
    {
     "name": "stdout",
     "output_type": "stream",
     "text": [
      "Accuracy: 0.840080971659919\n",
      "AUC on the test data: 0.8391\n"
     ]
    }
   ],
   "source": [
    "# make predictions on the test set\n",
    "logreg_test_predictions = logreg_model.predict_proba(X_test_vector.toarray())[:, 1]\n",
    "nn_test_predictions = nn_model.predict(X_test_vector.toarray())\n",
    "stacked_test_features = np.column_stack((logreg_test_predictions, nn_test_predictions))\n",
    "y_pred = final_estimator.predict(stacked_test_features)\n",
    "\n",
    "# evaluate performance\n",
    "accuracy = accuracy_score(y_test, y_pred)\n",
    "print(\"Accuracy:\", accuracy)\n",
    "\n",
    "auc = roc_auc_score(y_test, y_pred)\n",
    "print('AUC on the test data: {:.4f}'.format(auc))"
   ]
  },
  {
   "cell_type": "code",
   "execution_count": null,
   "metadata": {},
   "outputs": [],
   "source": []
  }
 ],
 "metadata": {
  "kernelspec": {
   "display_name": "Python 3",
   "language": "python",
   "name": "python3"
  },
  "language_info": {
   "codemirror_mode": {
    "name": "ipython",
    "version": 3
   },
   "file_extension": ".py",
   "mimetype": "text/x-python",
   "name": "python",
   "nbconvert_exporter": "python",
   "pygments_lexer": "ipython3",
   "version": "3.6.9"
  },
  "toc": {
   "base_numbering": 1,
   "nav_menu": {},
   "number_sections": false,
   "sideBar": true,
   "skip_h1_title": false,
   "title_cell": "Table of Contents",
   "title_sidebar": "Contents",
   "toc_cell": false,
   "toc_position": {},
   "toc_section_display": true,
   "toc_window_display": false
  },
  "varInspector": {
   "cols": {
    "lenName": 16,
    "lenType": 16,
    "lenVar": 40
   },
   "kernels_config": {
    "python": {
     "delete_cmd_postfix": "",
     "delete_cmd_prefix": "del ",
     "library": "var_list.py",
     "varRefreshCmd": "print(var_dic_list())"
    },
    "r": {
     "delete_cmd_postfix": ") ",
     "delete_cmd_prefix": "rm(",
     "library": "var_list.r",
     "varRefreshCmd": "cat(var_dic_list()) "
    }
   },
   "types_to_exclude": [
    "module",
    "function",
    "builtin_function_or_method",
    "instance",
    "_Feature"
   ],
   "window_display": false
  }
 },
 "nbformat": 4,
 "nbformat_minor": 2
}
